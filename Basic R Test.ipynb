{
 "cells": [
  {
   "cell_type": "markdown",
   "metadata": {},
   "source": [
    "# Basic R Test -- Normalize A Function"
   ]
  },
  {
   "cell_type": "markdown",
   "metadata": {},
   "source": [
    "We can set a variable using the **<-** construct.\n",
    "\n",
    "*Ex:  \"a <- 10\" would set a variable called \"a\" to a value of 10.*\n",
    "\n",
    "Well, technically, the variable \"a\" is set to a vector of size one, whose sole element is the number 10.  This turns out to be a big advantage for performing set-based operations in R, but let's not get too distracted.\n",
    "    \n",
    "Note that you can also write \"a = 10\" and it will work, but this is not a great practice because the equality operator generally doesn't quite work the same way in R as it does in C-based languages or SQL, and you might end up with an edge case that backfires on you.  Stick with <- and you'll be fine."
   ]
  },
  {
   "cell_type": "code",
   "execution_count": null,
   "metadata": {
    "collapsed": false
   },
   "outputs": [],
   "source": [
    "y <- 500\n",
    "y"
   ]
  },
  {
   "cell_type": "markdown",
   "metadata": {},
   "source": [
    "We can also assign a multi-element vector using <-, and so we'll do that with the next example.  Note that the . in R is **not** a way of accessing methods or properties on an object like in C#, but is just another character like the underscore.  R variables often use dots instead of underscores, and that can get confusing for new developers."
   ]
  },
  {
   "cell_type": "code",
   "execution_count": null,
   "metadata": {
    "collapsed": false
   },
   "outputs": [],
   "source": [
    "#The . in R is like _ in C-based languages.\n",
    "our.second.vector <- c(10.4, 11.9, 38.1, 2.2, 0.7664)\n",
    "#Of course, the _ in R is also like the _ in C-based languages!\n",
    "our_third_vector <- c(9.99, 19.99, 29.99)\n",
    "\n",
    "print('Results of our.second.vector:')\n",
    "our.second.vector\n",
    "print('Results of our_third_vector:')\n",
    "our_third_vector"
   ]
  },
  {
   "cell_type": "markdown",
   "metadata": {},
   "source": [
    "Accessing elements in a vector is simple:  you can use array notation.  Note that R uses 1-based arrays rather than 0-based arrays!"
   ]
  },
  {
   "cell_type": "code",
   "execution_count": null,
   "metadata": {
    "collapsed": false
   },
   "outputs": [],
   "source": [
    "our.second.vector[3]\n",
    "our_third_vector[3]\n",
    "#In this case, we don't have a value, so nothing appears:\n",
    "our.second.vector[0]"
   ]
  },
  {
   "cell_type": "markdown",
   "metadata": {},
   "source": [
    "We can create functions using the same <- construct that we use to create vectors."
   ]
  },
  {
   "cell_type": "code",
   "execution_count": null,
   "metadata": {
    "collapsed": true
   },
   "outputs": [],
   "source": [
    "normalize <- function(x) {\n",
    "  #standardize values of x; subtract mean & rescale so sd = 1\n",
    "  (x-mean(x))/sd(x)\n",
    "}"
   ]
  },
  {
   "cell_type": "markdown",
   "metadata": {},
   "source": [
    "The normalization function will rescale a vector such that the standard deviation is 1."
   ]
  },
  {
   "cell_type": "code",
   "execution_count": null,
   "metadata": {
    "collapsed": true
   },
   "outputs": [],
   "source": [
    "x <- rnorm(100)*5+2\n",
    "#Call our function on the data set x and put the results into z.\n",
    "z <- normalize(x)"
   ]
  },
  {
   "cell_type": "markdown",
   "metadata": {},
   "source": [
    "In the code snippet above, we use the **rnorm** function.  Whenever you see a function which is unfamiliar to you, you can use **help(function)** to get help on that function.  For example, to get help on rnorm, we call:"
   ]
  },
  {
   "cell_type": "code",
   "execution_count": null,
   "metadata": {
    "collapsed": false
   },
   "outputs": [],
   "source": [
    "help(rnorm)"
   ]
  },
  {
   "cell_type": "markdown",
   "metadata": {},
   "source": [
    "rnorm(100) returns a vector of 100 values fit a normal distribution of mean 0 and standard deviation 1.  We want to show off our normalize function, so we'll shift the results by multiplying each value by 5 and adding 2 to each value.\n",
    "\n",
    "Note that there's no foreach loop, no for loop, etc.  Like SQL, RBAR is a no-no in general here.  Better to use set-based operations, as they're MUCH faster!\n",
    "\n",
    "Calling a function on a vector is easy; one of the nice things about R is that, most of the time, you dn't have to think about the difference between a variable and a vector, and can treat sets as you would single elements."
   ]
  },
  {
   "cell_type": "markdown",
   "metadata": {},
   "source": [
    "We can call built-in methods easily.  We want to make sure that after normalization, our mean is (approximately) 0 and our standard deviation is (approximately) 1"
   ]
  },
  {
   "cell_type": "code",
   "execution_count": null,
   "metadata": {
    "collapsed": false,
    "scrolled": true
   },
   "outputs": [],
   "source": [
    "mean(z)"
   ]
  },
  {
   "cell_type": "markdown",
   "metadata": {},
   "source": [
    "Running this shows that the mean is 0.  The value we get back won't say 0, but it's so close that we can treat it as such."
   ]
  },
  {
   "cell_type": "code",
   "execution_count": null,
   "metadata": {
    "collapsed": false,
    "scrolled": true
   },
   "outputs": [],
   "source": [
    "sd(z)"
   ]
  },
  {
   "cell_type": "markdown",
   "metadata": {},
   "source": [
    "The standard deviation is 1.  By contrast, the original mean and standard deviation are:"
   ]
  },
  {
   "cell_type": "code",
   "execution_count": null,
   "metadata": {
    "collapsed": false
   },
   "outputs": [],
   "source": [
    "mean(x)\n",
    "sd(x)"
   ]
  },
  {
   "cell_type": "markdown",
   "metadata": {},
   "source": [
    "Let's do something with the vectors x and z, and put them into a data frame.  Data frames are R's preferred method of working with sets of data, and from a SQL Server practitioner's point of view, you can think of them as result sets.  With data frames, each row is known as an *observation* and each column known as a *variable*.\n",
    "\n",
    "We will use the **data.frame** method to build a data frame.  Then, we will use the **names** method to provide reasonable names for each variable in the data frame.  To update both at once, we'll use the concatenate function, **c**.\n",
    "\n",
    "As a bonus, we'll calculate the mean and standard deviation of the vector x and use those values to build a calculated data frame to test our function.  If the results match, we'll know that our calculation is correct.\n",
    "\n",
    "Finally, we will look at a chart of the top 10 elements in both x and z, so we can see the translations."
   ]
  },
  {
   "cell_type": "code",
   "execution_count": null,
   "metadata": {
    "collapsed": false
   },
   "outputs": [],
   "source": [
    "meanx <- mean(x)\n",
    "sdx <- sd(x)\n",
    "\n",
    "df <- data.frame(x, z, ((x-meanx)/sdx))\n",
    "names(df) <- c(\"Original\",\"Normalized\",\"Calculated\")\n",
    "\n",
    "head(df, 10)"
   ]
  },
  {
   "cell_type": "markdown",
   "metadata": {},
   "source": [
    "Looking at charts of numbers is cool and all, but visuals are easier to follow. This visual proves that our normalize function does NOT change the distribution"
   ]
  },
  {
   "cell_type": "code",
   "execution_count": null,
   "metadata": {
    "collapsed": false
   },
   "outputs": [],
   "source": [
    "plot(x,z)"
   ]
  },
  {
   "cell_type": "markdown",
   "metadata": {},
   "source": [
    "Plotting shows that we've simply scaled the values; we have not modified the distribution in any other way."
   ]
  },
  {
   "cell_type": "code",
   "execution_count": null,
   "metadata": {
    "collapsed": true
   },
   "outputs": [],
   "source": []
  }
 ],
 "metadata": {
  "kernelspec": {
   "display_name": "R",
   "language": "R",
   "name": "ir"
  },
  "language_info": {
   "codemirror_mode": "r",
   "file_extension": ".r",
   "mimetype": "text/x-r-source",
   "name": "R",
   "pygments_lexer": "r",
   "version": "3.3.2"
  }
 },
 "nbformat": 4,
 "nbformat_minor": 0
}
